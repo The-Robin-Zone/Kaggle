{
 "cells": [
  {
   "cell_type": "code",
   "execution_count": 1,
   "id": "15bfb7b6",
   "metadata": {
    "execution": {
     "iopub.execute_input": "2022-04-17T13:07:36.638124Z",
     "iopub.status.busy": "2022-04-17T13:07:36.636942Z",
     "iopub.status.idle": "2022-04-17T13:07:38.332748Z",
     "shell.execute_reply": "2022-04-17T13:07:38.333722Z",
     "shell.execute_reply.started": "2022-04-17T13:02:53.944042Z"
    },
    "papermill": {
     "duration": 1.724495,
     "end_time": "2022-04-17T13:07:38.334189",
     "exception": false,
     "start_time": "2022-04-17T13:07:36.609694",
     "status": "completed"
    },
    "tags": []
   },
   "outputs": [
    {
     "name": "stdout",
     "output_type": "stream",
     "text": [
      "/kaggle/input/titanic/train.csv\n",
      "/kaggle/input/titanic/test.csv\n",
      "/kaggle/input/titanic/gender_submission.csv\n"
     ]
    }
   ],
   "source": [
    "# data analysis and wrangling\n",
    "import pandas as pd\n",
    "import numpy as np\n",
    "import random as rnd\n",
    "\n",
    "# visualization\n",
    "import seaborn as sns\n",
    "import matplotlib.pyplot as plt\n",
    "\n",
    "# machine learning\n",
    "from sklearn.linear_model import LogisticRegression\n",
    "from sklearn.svm import SVC, LinearSVC\n",
    "from sklearn.ensemble import RandomForestClassifier\n",
    "from sklearn.neighbors import KNeighborsClassifier\n",
    "from sklearn.naive_bayes import GaussianNB\n",
    "from sklearn.linear_model import Perceptron\n",
    "from sklearn.linear_model import SGDClassifier\n",
    "from sklearn.tree import DecisionTreeClassifier\n",
    "\n",
    "import os\n",
    "for dirname, _, filenames in os.walk('/kaggle/input'):\n",
    "    for filename in filenames:\n",
    "        print(os.path.join(dirname, filename))\n",
    "        \n"
   ]
  },
  {
   "cell_type": "markdown",
   "id": "f87c7125",
   "metadata": {
    "papermill": {
     "duration": 0.021892,
     "end_time": "2022-04-17T13:07:38.385838",
     "exception": false,
     "start_time": "2022-04-17T13:07:38.363946",
     "status": "completed"
    },
    "tags": []
   },
   "source": [
    "**Acquire training and testing data**"
   ]
  },
  {
   "cell_type": "code",
   "execution_count": 2,
   "id": "fff07f0e",
   "metadata": {
    "_cell_guid": "b1076dfc-b9ad-4769-8c92-a6c4dae69d19",
    "_uuid": "8f2839f25d086af736a60e9eeb907d3b93b6e0e5",
    "execution": {
     "iopub.execute_input": "2022-04-17T13:07:38.435801Z",
     "iopub.status.busy": "2022-04-17T13:07:38.435082Z",
     "iopub.status.idle": "2022-04-17T13:07:38.470677Z",
     "shell.execute_reply": "2022-04-17T13:07:38.469951Z",
     "shell.execute_reply.started": "2022-04-17T13:02:54.016554Z"
    },
    "papermill": {
     "duration": 0.061825,
     "end_time": "2022-04-17T13:07:38.470826",
     "exception": false,
     "start_time": "2022-04-17T13:07:38.409001",
     "status": "completed"
    },
    "tags": []
   },
   "outputs": [],
   "source": [
    "train_df = pd.read_csv('../input/titanic/train.csv')\n",
    "test_df = pd.read_csv('../input/titanic/test.csv')"
   ]
  },
  {
   "cell_type": "markdown",
   "id": "3a3a8d53",
   "metadata": {
    "papermill": {
     "duration": 0.027017,
     "end_time": "2022-04-17T13:07:38.527346",
     "exception": false,
     "start_time": "2022-04-17T13:07:38.500329",
     "status": "completed"
    },
    "tags": []
   },
   "source": [
    "**Helper Function**"
   ]
  },
  {
   "cell_type": "code",
   "execution_count": 3,
   "id": "21aa4d9e",
   "metadata": {
    "execution": {
     "iopub.execute_input": "2022-04-17T13:07:38.580061Z",
     "iopub.status.busy": "2022-04-17T13:07:38.579358Z",
     "iopub.status.idle": "2022-04-17T13:07:38.592608Z",
     "shell.execute_reply": "2022-04-17T13:07:38.593196Z",
     "shell.execute_reply.started": "2022-04-17T13:02:54.073980Z"
    },
    "papermill": {
     "duration": 0.042021,
     "end_time": "2022-04-17T13:07:38.593395",
     "exception": false,
     "start_time": "2022-04-17T13:07:38.551374",
     "status": "completed"
    },
    "tags": []
   },
   "outputs": [],
   "source": [
    "#df - the dataframe on which to apply the analysis\n",
    "#factor - the factor / column for which we want the survival rate. Should be of type string.\n",
    "#This function takes in a column and returns the survival rate of Titanic passengers according to this factor.\n",
    "\n",
    "survivor_count = train_df['Survived'].sum()    \n",
    "def get_survival_rate(dataframe, factor):\n",
    "  \n",
    "    by_factor = dataframe.groupby(factor)\n",
    "    count_by_factor = by_factor['Survived'].sum()\n",
    "    survival_rate = count_by_factor / survivor_count * 100\n",
    "    print('Survival precentage:', survival_rate, '\\n')\n",
    "    print('Survival Count: ', count_by_factor,'\\n')\n",
    "    "
   ]
  },
  {
   "cell_type": "markdown",
   "id": "cec05b86",
   "metadata": {
    "papermill": {
     "duration": 0.022734,
     "end_time": "2022-04-17T13:07:38.638369",
     "exception": false,
     "start_time": "2022-04-17T13:07:38.615635",
     "status": "completed"
    },
    "tags": []
   },
   "source": [
    "**Wrangle, prepare, cleanse the data**"
   ]
  },
  {
   "cell_type": "code",
   "execution_count": 4,
   "id": "33bb29a0",
   "metadata": {
    "_cell_guid": "b1076dfc-b9ad-4769-8c92-a6c4dae69d19",
    "_uuid": "8f2839f25d086af736a60e9eeb907d3b93b6e0e5",
    "execution": {
     "iopub.execute_input": "2022-04-17T13:07:38.687632Z",
     "iopub.status.busy": "2022-04-17T13:07:38.686950Z",
     "iopub.status.idle": "2022-04-17T13:07:38.703215Z",
     "shell.execute_reply": "2022-04-17T13:07:38.703704Z",
     "shell.execute_reply.started": "2022-04-17T13:02:54.126754Z"
    },
    "papermill": {
     "duration": 0.042733,
     "end_time": "2022-04-17T13:07:38.703902",
     "exception": false,
     "start_time": "2022-04-17T13:07:38.661169",
     "status": "completed"
    },
    "tags": []
   },
   "outputs": [],
   "source": [
    "#drop unused columns\n",
    "train_df.drop(labels=[\"Ticket\",\"Cabin\",\"PassengerId\"], axis='columns', inplace=True)\n",
    "test_df.drop(labels=[\"Ticket\",\"Cabin\",\"PassengerId\"], axis='columns', inplace=True)\n"
   ]
  },
  {
   "cell_type": "code",
   "execution_count": 5,
   "id": "89a56301",
   "metadata": {
    "execution": {
     "iopub.execute_input": "2022-04-17T13:07:38.752590Z",
     "iopub.status.busy": "2022-04-17T13:07:38.751684Z",
     "iopub.status.idle": "2022-04-17T13:07:38.822179Z",
     "shell.execute_reply": "2022-04-17T13:07:38.821448Z",
     "shell.execute_reply.started": "2022-04-17T13:02:54.180994Z"
    },
    "papermill": {
     "duration": 0.096386,
     "end_time": "2022-04-17T13:07:38.822337",
     "exception": false,
     "start_time": "2022-04-17T13:07:38.725951",
     "status": "completed"
    },
    "tags": []
   },
   "outputs": [],
   "source": [
    "#Fill NaN values of Age to mean\n",
    "train_df['Age'].fillna(train_df.describe().loc['mean','Age'], inplace=True)\n",
    "test_df['Age'].fillna(test_df.describe().loc['mean','Age'], inplace=True)\n",
    "\n",
    "#Fill NaN values of embarked with the most common value - S\n",
    "train_df['Embarked'] = train_df['Embarked'].fillna('S')\n",
    "test_df['Embarked'] = train_df['Embarked'].fillna('S')\n",
    "\n",
    "#Fill NaN values of Fare with mean\n",
    "train_df['Fare'] = train_df['Fare'].replace(['0'],['Null'])\n",
    "test_df['Fare'] = test_df['Fare'].replace(['0'],['Null'])\n",
    "\n",
    "train_df['Fare'].fillna(train_df.describe().loc['mean','Fare'], inplace=True)\n",
    "test_df['Fare'].fillna(test_df.describe().loc['mean','Fare'], inplace=True)"
   ]
  },
  {
   "cell_type": "code",
   "execution_count": 6,
   "id": "98a118f1",
   "metadata": {
    "execution": {
     "iopub.execute_input": "2022-04-17T13:07:38.875375Z",
     "iopub.status.busy": "2022-04-17T13:07:38.874345Z",
     "iopub.status.idle": "2022-04-17T13:07:38.876829Z",
     "shell.execute_reply": "2022-04-17T13:07:38.877319Z",
     "shell.execute_reply.started": "2022-04-17T13:02:54.240580Z"
    },
    "papermill": {
     "duration": 0.032864,
     "end_time": "2022-04-17T13:07:38.877511",
     "exception": false,
     "start_time": "2022-04-17T13:07:38.844647",
     "status": "completed"
    },
    "tags": []
   },
   "outputs": [],
   "source": [
    "# Create new column Family Size\n",
    "\n",
    "# Family Size\n",
    "train_df['FamilySize'] = train_df['SibSp'] + train_df['Parch'] + 1\n",
    "test_df['FamilySize'] = test_df['SibSp'] + test_df['Parch'] + 1"
   ]
  },
  {
   "cell_type": "code",
   "execution_count": 7,
   "id": "8fb2f792",
   "metadata": {
    "execution": {
     "iopub.execute_input": "2022-04-17T13:07:38.925815Z",
     "iopub.status.busy": "2022-04-17T13:07:38.925157Z",
     "iopub.status.idle": "2022-04-17T13:07:38.961235Z",
     "shell.execute_reply": "2022-04-17T13:07:38.961784Z",
     "shell.execute_reply.started": "2022-04-17T13:02:54.309911Z"
    },
    "papermill": {
     "duration": 0.062508,
     "end_time": "2022-04-17T13:07:38.962010",
     "exception": false,
     "start_time": "2022-04-17T13:07:38.899502",
     "status": "completed"
    },
    "tags": []
   },
   "outputs": [],
   "source": [
    "#Create new column - Title\n",
    "\n",
    "train_df['Title'] = train_df['Name'].str.findall(r' (\\w+)\\.')\n",
    "train_df['Title'] = train_df['Title'].str[0]\n",
    "\n",
    "test_df['Title'] = test_df['Name'].str.findall(r' (\\w+)\\.')\n",
    "test_df['Title'] = test_df['Title'].str[0]\n",
    "\n",
    "#print(train_df.Title.unique())\n",
    "#print(test_df.Title.unique())\n",
    "\n",
    "uncommon = ['Lady', 'Countess','Capt', \n",
    "            'Col','Don', 'Dr', 'Major', \n",
    "            'Rev', 'Sir', 'Jonkheer', 'Dona']\n",
    "\n",
    "title_dictionary = {'Mr': 1, 'Mrs': 2, 'Miss': 3, \n",
    "                   'Master': 4, 'Uncommon': 5}\n",
    "\n",
    "train_df['Title'] = train_df['Title'].replace(uncommon, 'Uncommon')\n",
    "train_df['Title'] = train_df['Title'].replace(['Ms', 'Mlle'], 'Miss')\n",
    "train_df['Title'] = train_df['Title'].replace('Mme', 'Mrs')\n",
    "train_df['Title'] = train_df['Title'].map(title_dictionary)\n",
    "train_df['Title'] = train_df['Title'].fillna(0)\n",
    "\n",
    "test_df['Title'] = test_df['Title'].replace(uncommon, 'Uncommon')\n",
    "test_df['Title'] = test_df['Title'].replace(['Ms', 'Mlle'], 'Miss')\n",
    "test_df['Title'] = test_df['Title'].replace('Mme', 'Mrs')\n",
    "test_df['Title'] = test_df['Title'].map(title_dictionary)\n",
    "test_df['Title'] = test_df['Title'].fillna(0)"
   ]
  },
  {
   "cell_type": "code",
   "execution_count": 8,
   "id": "7ea007f9",
   "metadata": {
    "execution": {
     "iopub.execute_input": "2022-04-17T13:07:39.012482Z",
     "iopub.status.busy": "2022-04-17T13:07:39.011691Z",
     "iopub.status.idle": "2022-04-17T13:07:39.050014Z",
     "shell.execute_reply": "2022-04-17T13:07:39.050639Z",
     "shell.execute_reply.started": "2022-04-17T13:02:54.364082Z"
    },
    "papermill": {
     "duration": 0.066825,
     "end_time": "2022-04-17T13:07:39.050836",
     "exception": false,
     "start_time": "2022-04-17T13:07:38.984011",
     "status": "completed"
    },
    "tags": []
   },
   "outputs": [],
   "source": [
    "#convert sex values to numerical: male = 0, female = 1\n",
    "train_df['Sex'] = train_df['Sex'].replace(['male','female'],[0,1])\n",
    "test_df['Sex'] = test_df['Sex'].replace(['male','female'],[0,1])\n",
    "\n",
    "#convert Embarked values to numerical: 0 = C = Cherbourg, 1 = Q = Queenstown, 2 = S = Southampton\n",
    "train_df['Embarked'] = train_df['Embarked'].replace(['C','Q','S'],[0,1,2])\n",
    "test_df['Embarked'] = test_df['Embarked'].replace(['C','Q','S'],[0,1,2])\n",
    "\n",
    "#convert age values to numerical  by range: 0 = (0-18) , 1 = (18-30), 2 = (30-50), 3= (50-65), 4 =(65+) \n",
    "age_groups = [0, 18, 30, 50, 65, 120]\n",
    "age_group_names = ['0', '1',  '2', '3', '4']\n",
    "train_df['Age group'] = pd.cut(train_df['Age'], bins=age_groups, labels=age_group_names)\n",
    "test_df['Age group'] = pd.cut(train_df['Age'], bins=age_groups, labels=age_group_names)\n",
    "train_df[\"Age group\"] = pd.to_numeric(train_df[\"Age group\"])\n",
    "test_df[\"Age group\"] = pd.to_numeric(test_df[\"Age group\"])\n",
    "\n",
    "#convert fare values to numerical: 0 = (0-20) , 1 = (20-40), 2 = (40-60), 3= (60-80), 4 =(80+) \n",
    "fare_groups = [-1, 20, 40, 60, 80, 1000]\n",
    "fare_group_names = ['0', '1',  '2', '3', '4']\n",
    "train_df['Fare group'] = pd.cut(train_df['Fare'], bins=fare_groups, labels=fare_group_names)\n",
    "test_df['Fare group'] = pd.cut(train_df['Fare'], bins=fare_groups, labels=fare_group_names)\n",
    "train_df[\"Fare group\"] = pd.to_numeric(train_df[\"Fare group\"])\n",
    "test_df[\"Fare group\"] = pd.to_numeric(test_df[\"Fare group\"])\n",
    "\n",
    "#drop age and name columns\n",
    "train_df.drop(labels=[\"Age\",\"Name\",\"Fare\"], axis='columns', inplace=True)\n",
    "test_df.drop(labels=[\"Age\",\"Name\",\"Fare\"], axis='columns', inplace=True)"
   ]
  },
  {
   "cell_type": "code",
   "execution_count": 9,
   "id": "dc3e2849",
   "metadata": {
    "execution": {
     "iopub.execute_input": "2022-04-17T13:07:39.098816Z",
     "iopub.status.busy": "2022-04-17T13:07:39.098185Z",
     "iopub.status.idle": "2022-04-17T13:07:39.140394Z",
     "shell.execute_reply": "2022-04-17T13:07:39.140898Z",
     "shell.execute_reply.started": "2022-04-17T13:02:54.459731Z"
    },
    "papermill": {
     "duration": 0.068275,
     "end_time": "2022-04-17T13:07:39.141120",
     "exception": false,
     "start_time": "2022-04-17T13:07:39.072845",
     "status": "completed"
    },
    "tags": []
   },
   "outputs": [
    {
     "name": "stdout",
     "output_type": "stream",
     "text": [
      "<class 'pandas.core.frame.DataFrame'>\n",
      "RangeIndex: 891 entries, 0 to 890\n",
      "Data columns (total 10 columns):\n",
      " #   Column      Non-Null Count  Dtype\n",
      "---  ------      --------------  -----\n",
      " 0   Survived    891 non-null    int64\n",
      " 1   Pclass      891 non-null    int64\n",
      " 2   Sex         891 non-null    int64\n",
      " 3   SibSp       891 non-null    int64\n",
      " 4   Parch       891 non-null    int64\n",
      " 5   Embarked    891 non-null    int64\n",
      " 6   FamilySize  891 non-null    int64\n",
      " 7   Title       891 non-null    int64\n",
      " 8   Age group   891 non-null    int64\n",
      " 9   Fare group  891 non-null    int64\n",
      "dtypes: int64(10)\n",
      "memory usage: 69.7 KB\n",
      "None\n",
      "<class 'pandas.core.frame.DataFrame'>\n",
      "RangeIndex: 418 entries, 0 to 417\n",
      "Data columns (total 9 columns):\n",
      " #   Column      Non-Null Count  Dtype\n",
      "---  ------      --------------  -----\n",
      " 0   Pclass      418 non-null    int64\n",
      " 1   Sex         418 non-null    int64\n",
      " 2   SibSp       418 non-null    int64\n",
      " 3   Parch       418 non-null    int64\n",
      " 4   Embarked    418 non-null    int64\n",
      " 5   FamilySize  418 non-null    int64\n",
      " 6   Title       418 non-null    int64\n",
      " 7   Age group   418 non-null    int64\n",
      " 8   Fare group  418 non-null    int64\n",
      "dtypes: int64(9)\n",
      "memory usage: 29.5 KB\n",
      "None\n"
     ]
    },
    {
     "data": {
      "text/html": [
       "<div>\n",
       "<style scoped>\n",
       "    .dataframe tbody tr th:only-of-type {\n",
       "        vertical-align: middle;\n",
       "    }\n",
       "\n",
       "    .dataframe tbody tr th {\n",
       "        vertical-align: top;\n",
       "    }\n",
       "\n",
       "    .dataframe thead th {\n",
       "        text-align: right;\n",
       "    }\n",
       "</style>\n",
       "<table border=\"1\" class=\"dataframe\">\n",
       "  <thead>\n",
       "    <tr style=\"text-align: right;\">\n",
       "      <th></th>\n",
       "      <th>Pclass</th>\n",
       "      <th>Sex</th>\n",
       "      <th>SibSp</th>\n",
       "      <th>Parch</th>\n",
       "      <th>Embarked</th>\n",
       "      <th>FamilySize</th>\n",
       "      <th>Title</th>\n",
       "      <th>Age group</th>\n",
       "      <th>Fare group</th>\n",
       "    </tr>\n",
       "  </thead>\n",
       "  <tbody>\n",
       "  </tbody>\n",
       "</table>\n",
       "</div>"
      ],
      "text/plain": [
       "Empty DataFrame\n",
       "Columns: [Pclass, Sex, SibSp, Parch, Embarked, FamilySize, Title, Age group, Fare group]\n",
       "Index: []"
      ]
     },
     "execution_count": 9,
     "metadata": {},
     "output_type": "execute_result"
    }
   ],
   "source": [
    "#check data vefore analysis\n",
    "\n",
    "print(train_df.info())\n",
    "print(test_df.info())\n",
    "\n",
    "#train_df.head(20)\n",
    "#test_df.head(10)\n",
    "\n",
    "#display rows with NaN values\n",
    "train_df[train_df.isnull().any(axis=1)]\n",
    "test_df[test_df.isnull().any(axis=1)]"
   ]
  },
  {
   "cell_type": "markdown",
   "id": "30451413",
   "metadata": {
    "papermill": {
     "duration": 0.022657,
     "end_time": "2022-04-17T13:07:39.186503",
     "exception": false,
     "start_time": "2022-04-17T13:07:39.163846",
     "status": "completed"
    },
    "tags": []
   },
   "source": [
    "**Analyze, identify patterns, and explore the data**"
   ]
  },
  {
   "cell_type": "code",
   "execution_count": 10,
   "id": "7f420d97",
   "metadata": {
    "execution": {
     "iopub.execute_input": "2022-04-17T13:07:39.237091Z",
     "iopub.status.busy": "2022-04-17T13:07:39.236333Z",
     "iopub.status.idle": "2022-04-17T13:07:39.248970Z",
     "shell.execute_reply": "2022-04-17T13:07:39.249608Z",
     "shell.execute_reply.started": "2022-04-17T13:02:54.535552Z"
    },
    "papermill": {
     "duration": 0.039629,
     "end_time": "2022-04-17T13:07:39.249847",
     "exception": false,
     "start_time": "2022-04-17T13:07:39.210218",
     "status": "completed"
    },
    "tags": []
   },
   "outputs": [
    {
     "name": "stdout",
     "output_type": "stream",
     "text": [
      "Survival precentage: Pclass\n",
      "1    39.766082\n",
      "2    25.438596\n",
      "3    34.795322\n",
      "Name: Survived, dtype: float64 \n",
      "\n",
      "Survival Count:  Pclass\n",
      "1    136\n",
      "2     87\n",
      "3    119\n",
      "Name: Survived, dtype: int64 \n",
      "\n",
      "Total count of people by Class\n",
      "\n",
      "3    491\n",
      "1    216\n",
      "2    184\n",
      "Name: Pclass, dtype: int64\n",
      "\n",
      "\n"
     ]
    }
   ],
   "source": [
    "#show the correlation of Class, Sex, Age Group, Embarked location and Title to Survival - Data\n",
    "\n",
    "get_survival_rate(train_df, 'Pclass')\n",
    "print(\"Total count of people by Class\\n\")\n",
    "print(train_df['Pclass'].value_counts())\n",
    "print(\"\\n\")\n",
    "\n",
    "#get_survival_rate(train_df, 'Sex')\n",
    "#print(\"Total count of people by Sex\\n\")\n",
    "#print(train_df['Sex'].value_counts())\n",
    "#print(\"\\n\")\n",
    "\n",
    "#get_survival_rate(train_df, 'Age group')\n",
    "#print(\"Total count of people by Age group\\n\")\n",
    "#print(train_df['Age group'].value_counts())\n",
    "#print(\"\\n\")\n",
    "\n",
    "#get_survival_rate(train_df, 'Embarked')\n",
    "#print(\"Total count of people by Embarked\\n\")\n",
    "#print(train_df['Embarked'].value_counts())\n",
    "#print(\"\\n\")\n",
    "\n",
    "#get_survival_rate(train_df, 'Title')\n",
    "#print(\"Total count of people by Title\\n\")\n",
    "#print(train_df['Title'].value_counts())\n",
    "#print(\"\\n\")"
   ]
  },
  {
   "cell_type": "code",
   "execution_count": 11,
   "id": "fe4e7367",
   "metadata": {
    "execution": {
     "iopub.execute_input": "2022-04-17T13:07:39.302598Z",
     "iopub.status.busy": "2022-04-17T13:07:39.301840Z",
     "iopub.status.idle": "2022-04-17T13:07:39.673188Z",
     "shell.execute_reply": "2022-04-17T13:07:39.672451Z",
     "shell.execute_reply.started": "2022-04-17T13:02:54.590383Z"
    },
    "papermill": {
     "duration": 0.398914,
     "end_time": "2022-04-17T13:07:39.673355",
     "exception": false,
     "start_time": "2022-04-17T13:07:39.274441",
     "status": "completed"
    },
    "tags": []
   },
   "outputs": [
    {
     "data": {
      "text/plain": [
       "Text(0.5, 1.0, 'survival Probabily by Class')"
      ]
     },
     "execution_count": 11,
     "metadata": {},
     "output_type": "execute_result"
    },
    {
     "data": {
      "image/png": "[encoded data removed]",
      "text/plain": [
       "<Figure size 432x288 with 1 Axes>"
      ]
     },
     "metadata": {
      "needs_background": "light"
     },
     "output_type": "display_data"
    }
   ],
   "source": [
    "#Show the correlation of Class to Survival - Graph\n",
    "\n",
    "sns.barplot(x='Pclass',y='Survived', data=train_df)\n",
    "plt.ylabel('Survival Probability')\n",
    "plt.title('survival Probabily by Class')"
   ]
  },
  {
   "cell_type": "code",
   "execution_count": 12,
   "id": "dc15bae6",
   "metadata": {
    "execution": {
     "iopub.execute_input": "2022-04-17T13:07:39.731408Z",
     "iopub.status.busy": "2022-04-17T13:07:39.730310Z",
     "iopub.status.idle": "2022-04-17T13:07:40.007112Z",
     "shell.execute_reply": "2022-04-17T13:07:40.006449Z",
     "shell.execute_reply.started": "2022-04-17T13:02:54.908625Z"
    },
    "papermill": {
     "duration": 0.309432,
     "end_time": "2022-04-17T13:07:40.007303",
     "exception": false,
     "start_time": "2022-04-17T13:07:39.697871",
     "status": "completed"
    },
    "tags": []
   },
   "outputs": [
    {
     "data": {
      "text/plain": [
       "Text(0.5, 1.0, 'survival Probabily by Sex')"
      ]
     },
     "execution_count": 12,
     "metadata": {},
     "output_type": "execute_result"
    },
    {
     "data": {
      "image/png": "[encoded data removed]",
      "text/plain": [
       "<Figure size 432x288 with 1 Axes>"
      ]
     },
     "metadata": {
      "needs_background": "light"
     },
     "output_type": "display_data"
    }
   ],
   "source": [
    "#Show the correlation of Sex to Survival - Graph\n",
    "\n",
    "sns.barplot(x='Sex',y='Survived', data=train_df)\n",
    "plt.ylabel('Survival Probability')\n",
    "plt.title('survival Probabily by Sex')"
   ]
  },
  {
   "cell_type": "code",
   "execution_count": 13,
   "id": "667de5d9",
   "metadata": {
    "execution": {
     "iopub.execute_input": "2022-04-17T13:07:40.069198Z",
     "iopub.status.busy": "2022-04-17T13:07:40.068147Z",
     "iopub.status.idle": "2022-04-17T13:07:40.461148Z",
     "shell.execute_reply": "2022-04-17T13:07:40.460407Z",
     "shell.execute_reply.started": "2022-04-17T13:02:55.178756Z"
    },
    "papermill": {
     "duration": 0.427676,
     "end_time": "2022-04-17T13:07:40.461314",
     "exception": false,
     "start_time": "2022-04-17T13:07:40.033638",
     "status": "completed"
    },
    "tags": []
   },
   "outputs": [
    {
     "data": {
      "text/plain": [
       "Text(0.5, 1.0, 'survival Probabily by Age Group')"
      ]
     },
     "execution_count": 13,
     "metadata": {},
     "output_type": "execute_result"
    },
    {
     "data": {
      "image/png": "[encoded data removed]",
      "text/plain": [
       "<Figure size 432x288 with 1 Axes>"
      ]
     },
     "metadata": {
      "needs_background": "light"
     },
     "output_type": "display_data"
    }
   ],
   "source": [
    "#Show the correlation of Age group to Survival - Graph\n",
    "\n",
    "sns.barplot(x='Age group',y='Survived', data=train_df)\n",
    "plt.ylabel('Survival Probability')\n",
    "plt.title('survival Probabily by Age Group')"
   ]
  },
  {
   "cell_type": "code",
   "execution_count": 14,
   "id": "748060cf",
   "metadata": {
    "execution": {
     "iopub.execute_input": "2022-04-17T13:07:40.521426Z",
     "iopub.status.busy": "2022-04-17T13:07:40.520644Z",
     "iopub.status.idle": "2022-04-17T13:07:40.832883Z",
     "shell.execute_reply": "2022-04-17T13:07:40.833466Z",
     "shell.execute_reply.started": "2022-04-17T13:02:55.582122Z"
    },
    "papermill": {
     "duration": 0.343625,
     "end_time": "2022-04-17T13:07:40.833666",
     "exception": false,
     "start_time": "2022-04-17T13:07:40.490041",
     "status": "completed"
    },
    "tags": []
   },
   "outputs": [
    {
     "data": {
      "text/plain": [
       "Text(0.5, 1.0, 'survival Probabily by Embarked Location')"
      ]
     },
     "execution_count": 14,
     "metadata": {},
     "output_type": "execute_result"
    },
    {
     "data": {
      "image/png": "[encoded data removed]",
      "text/plain": [
       "<Figure size 432x288 with 1 Axes>"
      ]
     },
     "metadata": {
      "needs_background": "light"
     },
     "output_type": "display_data"
    }
   ],
   "source": [
    "#Show the correlation of Embarked Location to Survival - Graph\n",
    "\n",
    "sns.barplot(x='Embarked',y='Survived', data=train_df)\n",
    "plt.ylabel('Survival Probability')\n",
    "plt.title('survival Probabily by Embarked Location')"
   ]
  },
  {
   "cell_type": "code",
   "execution_count": 15,
   "id": "69452750",
   "metadata": {
    "execution": {
     "iopub.execute_input": "2022-04-17T13:07:40.894955Z",
     "iopub.status.busy": "2022-04-17T13:07:40.894233Z",
     "iopub.status.idle": "2022-04-17T13:07:41.275201Z",
     "shell.execute_reply": "2022-04-17T13:07:41.275714Z",
     "shell.execute_reply.started": "2022-04-17T13:02:55.839847Z"
    },
    "papermill": {
     "duration": 0.413599,
     "end_time": "2022-04-17T13:07:41.275943",
     "exception": false,
     "start_time": "2022-04-17T13:07:40.862344",
     "status": "completed"
    },
    "tags": []
   },
   "outputs": [
    {
     "data": {
      "text/plain": [
       "Text(0.5, 1.0, 'survival Probabily by Title')"
      ]
     },
     "execution_count": 15,
     "metadata": {},
     "output_type": "execute_result"
    },
    {
     "data": {
      "image/png": "[encoded data removed]",
      "text/plain": [
       "<Figure size 432x288 with 1 Axes>"
      ]
     },
     "metadata": {
      "needs_background": "light"
     },
     "output_type": "display_data"
    }
   ],
   "source": [
    "#Show the correlation of Title to Survival - Graph\n",
    "\n",
    "sns.barplot(x='Title',y='Survived', data=train_df)\n",
    "plt.ylabel('Survival Probability')\n",
    "plt.title('survival Probabily by Title')"
   ]
  },
  {
   "cell_type": "markdown",
   "id": "88056948",
   "metadata": {
    "papermill": {
     "duration": 0.029135,
     "end_time": "2022-04-17T13:07:41.334630",
     "exception": false,
     "start_time": "2022-04-17T13:07:41.305495",
     "status": "completed"
    },
    "tags": []
   },
   "source": [
    "**Model, predict, and solve the problem**"
   ]
  },
  {
   "cell_type": "code",
   "execution_count": 16,
   "id": "58b70a63",
   "metadata": {
    "execution": {
     "iopub.execute_input": "2022-04-17T13:07:41.407993Z",
     "iopub.status.busy": "2022-04-17T13:07:41.406947Z",
     "iopub.status.idle": "2022-04-17T13:07:41.433429Z",
     "shell.execute_reply": "2022-04-17T13:07:41.433995Z",
     "shell.execute_reply.started": "2022-04-17T13:02:56.223216Z"
    },
    "papermill": {
     "duration": 0.069824,
     "end_time": "2022-04-17T13:07:41.434195",
     "exception": false,
     "start_time": "2022-04-17T13:07:41.364371",
     "status": "completed"
    },
    "tags": []
   },
   "outputs": [
    {
     "data": {
      "text/plain": [
       "80.25"
      ]
     },
     "execution_count": 16,
     "metadata": {},
     "output_type": "execute_result"
    }
   ],
   "source": [
    "#LogisticRegression\n",
    "X_train = train_df.drop(\"Survived\", axis=1)\n",
    "Y_train = train_df[\"Survived\"]\n",
    "X_test  = test_df.copy()\n",
    "X_train.shape, Y_train.shape, X_test.shape\n",
    "logreg = LogisticRegression()\n",
    "logreg.fit(X_train, Y_train)\n",
    "Y_pred = logreg.predict(X_test)\n",
    "acc_log = round(logreg.score(X_train, Y_train) * 100, 2)\n",
    "acc_log\n"
   ]
  },
  {
   "cell_type": "code",
   "execution_count": 17,
   "id": "4488af12",
   "metadata": {
    "execution": {
     "iopub.execute_input": "2022-04-17T13:07:41.499627Z",
     "iopub.status.busy": "2022-04-17T13:07:41.498876Z",
     "iopub.status.idle": "2022-04-17T13:07:41.792621Z",
     "shell.execute_reply": "2022-04-17T13:07:41.791993Z",
     "shell.execute_reply.started": "2022-04-17T13:02:56.253986Z"
    },
    "papermill": {
     "duration": 0.328678,
     "end_time": "2022-04-17T13:07:41.792793",
     "exception": false,
     "start_time": "2022-04-17T13:07:41.464115",
     "status": "completed"
    },
    "tags": []
   },
   "outputs": [
    {
     "data": {
      "text/plain": [
       "89.0"
      ]
     },
     "execution_count": 17,
     "metadata": {},
     "output_type": "execute_result"
    }
   ],
   "source": [
    "#random_forest\n",
    "random_forest = RandomForestClassifier(n_estimators=100)\n",
    "random_forest.fit(X_train, Y_train)\n",
    "Y_pred = random_forest.predict(X_test)\n",
    "random_forest.score(X_train, Y_train)\n",
    "acc_random_forest = round(random_forest.score(X_train, Y_train) * 100,2)\n",
    "acc_random_forest"
   ]
  }
 ],
 "metadata": {
  "kernelspec": {
   "display_name": "Python 3",
   "language": "python",
   "name": "python3"
  },
  "language_info": {
   "codemirror_mode": {
    "name": "ipython",
    "version": 3
   },
   "file_extension": ".py",
   "mimetype": "text/x-python",
   "name": "python",
   "nbconvert_exporter": "python",
   "pygments_lexer": "ipython3",
   "version": "3.7.12"
  },
  "papermill": {
   "default_parameters": {},
   "duration": 17.188525,
   "end_time": "2022-04-17T13:07:42.738833",
   "environment_variables": {},
   "exception": null,
   "input_path": "__notebook__.ipynb",
   "output_path": "__notebook__.ipynb",
   "parameters": {},
   "start_time": "2022-04-17T13:07:25.550308",
   "version": "2.3.3"
  }
 },
 "nbformat": 4,
 "nbformat_minor": 5
}
